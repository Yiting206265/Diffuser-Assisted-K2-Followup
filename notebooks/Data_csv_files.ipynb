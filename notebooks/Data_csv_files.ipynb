{
 "cells": [
  {
   "cell_type": "code",
   "execution_count": 53,
   "metadata": {
    "collapsed": true
   },
   "outputs": [],
   "source": [
    "from __future__ import print_function\n",
    "import pandas as pd\n",
    "import numpy as np\n",
    "import matplotlib.pyplot as plt\n",
    "import sys\n",
    "# ---------- Graphics ------------\n",
    "# matplotlib\n",
    "import seaborn as sns; sns.set()\n",
    "sns.set_context(\"poster\",font_scale=0.5,rc={\"font\":\"helvetica\"});\n",
    "sns.set_style(\"white\"); #sns.set_style(\"ticks\")\n",
    "cp = sns.color_palette(\"colorblind\") #sns.palplot(current_palette)\n",
    "%matplotlib inline\n",
    "%config InlineBackend.figure_format = \"retina\"\n",
    "import matplotlib.pyplot as plt\n",
    "from matplotlib import rcParams\n",
    "rcParams[\"savefig.dpi\"] = 100\n",
    "rcParams['mathtext.fontset'] = 'stix'\n",
    "rcParams['font.family'] = 'STIXGeneral'\n",
    "rcParams['font.weight'] = \"normal\"\n",
    "rcParams[\"axes.formatter.useoffset\"] = False\n",
    "rcParams['xtick.major.width']=1\n",
    "rcParams['xtick.major.size']=4\n",
    "rcParams['xtick.minor.width']=0.5\n",
    "rcParams['xtick.minor.size']=2\n",
    "rcParams['xtick.direction'] = \"in\"\n",
    "rcParams['ytick.direction'] = \"in\"\n",
    "rcParams['ytick.major.width']=1\n",
    "rcParams['ytick.major.size']=4\n",
    "rcParams['ytick.minor.width']=0.5\n",
    "rcParams['ytick.minor.size']=2\n",
    "import getpass\n",
    "# Remove gks paths (not needed for anyone else)\n",
    "if getpass.getuser()==\"gks\":\n",
    "    try:\n",
    "        sys.path.remove(\"/Users/gks/Dropbox/mypylib/notebooks/GIT/transitMCMC/src\")\n",
    "        sys.path.remove(\"/Users/gks/Dropbox/mypylib\")\n",
    "        sys.path.append(\"/Users/gks/programs/MCcubed2/MCcubed/\")\n",
    "    except Exception as e:\n",
    "        print(e)\n",
    "        print(\"Paths already removed\")\n",
    "\n",
    "# Add path to mc3 if necessary\n",
    "sys.path.append(\"/Users/Sophie/git/MCcubed/\")\n",
    "sys.path.append(\"../src/\")\n",
    "import MCcubed as mc3 \n",
    "# Get data\n",
    "df_ground_k2_28b = pd.read_csv(\"../data/k2_28b/K2_data_k2_28b_for_plotting_ground.csv\",sep=\",\",header=0)\n",
    "df_k2_k2_28b = pd.read_csv(\"../data/k2_28b/K2_data_k2_28b_for_plotting_k2.csv\",sep=\",\",header=0)\n",
    "\n",
    "df_ground_k2_100b = pd.read_csv(\"../data/k2_100b/K2_data_k2_100b_for_plotting_ground.csv\",sep=\",\",header=0)\n",
    "df_k2_k2_100b = pd.read_csv(\"../data/k2_100b/K2_data_k2_100b_for_plotting_k2.csv\",sep=\",\",header=0)\n",
    "\n",
    "\n",
    "\n",
    "aij_k2_28b=pd.read_csv(\"../data/k2_28b/Processed_K2-28b-diffuserin-30s_measurements.xls\",sep=\"\\t\",header=0)\n",
    "aij_k2_100b=pd.read_csv(\"../data/k2_100b/Processed_k2-100_sdssi_4x4_quad_fast_14_measurements.xls\",sep=\"\\t\",header=0)\n",
    "aij_k2_100b = aij_k2_100b[0:-20]\n",
    "aij_k2_28b = aij_k2_28b[0:-20]"
   ]
  },
  {
   "cell_type": "code",
   "execution_count": 58,
   "metadata": {
    "collapsed": false
   },
   "outputs": [],
   "source": [
    "k2_28b_csv=pd.DataFrame({'BJD': aij_k2_28b['BJD_TDB'],'Normalized flux':df_ground_k2_28b['scaled_flux_ground'],\n",
    "                         'Normalized flux error': df_ground_k2_28b['scaled_error_ground'],\n",
    "                         'Airmass':aij_k2_28b['AIRMASS'],'X centroid':aij_k2_28b['X(FITS)_T1']\n",
    "                        ,'Y centroid':aij_k2_28b['Y(FITS)_T1'],'Best fit model':df_ground_k2_28b['ymodel_ground'],\n",
    "                        'Residual':df_ground_k2_28b['yresidual_ground']})\n",
    "k2_28b_csv\n",
    "k2_28b_csv.to_csv('../data/K2-28b_table.csv')"
   ]
  },
  {
   "cell_type": "code",
   "execution_count": null,
   "metadata": {
    "collapsed": false
   },
   "outputs": [],
   "source": []
  },
  {
   "cell_type": "code",
   "execution_count": 57,
   "metadata": {
    "collapsed": false
   },
   "outputs": [],
   "source": [
    "k2_100b_csv=pd.DataFrame({'BJD': aij_k2_100b['BJD_TDB'],'Normalized flux':df_ground_k2_100b['scaled_flux_ground'],\n",
    "                         'Normalized flux error': df_ground_k2_100b['scaled_error_ground'],\n",
    "                         'Airmass':aij_k2_100b['AIRMASS'],'X centroid':aij_k2_100b['X(FITS)_T1']\n",
    "                        ,'Y centroid':aij_k2_100b['Y(FITS)_T1'],'Best fit model':df_ground_k2_100b['ymodel_ground'],\n",
    "                        'Residual':df_ground_k2_100b['yresidual_ground'],'time':df_ground_k2_100b['time_ground']})\n",
    "k2_100b_csv\n",
    "k2_100b_csv.to_csv('../data/K2-100b_table.csv')"
   ]
  },
  {
   "cell_type": "code",
   "execution_count": null,
   "metadata": {
    "collapsed": false
   },
   "outputs": [],
   "source": []
  },
  {
   "cell_type": "code",
   "execution_count": null,
   "metadata": {
    "collapsed": true
   },
   "outputs": [],
   "source": []
  }
 ],
 "metadata": {
  "kernelspec": {
   "display_name": "Python 2",
   "language": "python",
   "name": "python2"
  },
  "language_info": {
   "codemirror_mode": {
    "name": "ipython",
    "version": 2
   },
   "file_extension": ".py",
   "mimetype": "text/x-python",
   "name": "python",
   "nbconvert_exporter": "python",
   "pygments_lexer": "ipython2",
   "version": "2.7.13"
  }
 },
 "nbformat": 4,
 "nbformat_minor": 2
}
